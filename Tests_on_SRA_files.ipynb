{
 "cells": [
  {
   "cell_type": "code",
   "execution_count": 16,
   "id": "a5ab5f5c",
   "metadata": {},
   "outputs": [],
   "source": [
    "import pandas as pd\n",
    "import numpy as np\n",
    "\n",
    "import matplotlib.pyplot as plt\n",
    "import pandas as pd\n",
    "import numpy as np\n",
    "import matplotlib.pyplot as plt\n",
    "import os\n",
    "import re\n",
    "import gzip\n",
    "import io\n",
    "#import sparseconvnet as scn\n",
    "# from sklearn.metrics import classification_report\n",
    "# from torch.utils.data import random_split\n",
    "# from torch.utils.data import DataLoader\n",
    "# from torchvision.transforms import ToTensor\n",
    "# from torchvision.datasets import KMNIST\n",
    "# from torch.optim import Adam\n",
    "# from torch import nn\n",
    "\n",
    "\n",
    "import argparse\n",
    "\n",
    "import time"
   ]
  },
  {
   "cell_type": "code",
   "execution_count": 17,
   "id": "ad5d3546-889a-4110-ad2d-68cd5e0cb4ed",
   "metadata": {},
   "outputs": [
    {
     "name": "stdout",
     "output_type": "stream",
     "text": [
      "[[[200   0   0]]\n",
      "\n",
      " [[  2   0   0]]]\n",
      "[[200   0]\n",
      " [  0   2]\n",
      " [  0   0]]\n"
     ]
    }
   ],
   "source": [
    "import numpy as np\n",
    "\n",
    "array = np.array([[[200,0,0]],[[2,0,0]]])\n",
    "reshaped_array = array.reshape(-1, 2)\n",
    "print(array)\n",
    "print(reshaped_array)\n"
   ]
  },
  {
   "cell_type": "code",
   "execution_count": 18,
   "id": "3bdf0ca3-16c5-40fe-bc3c-c10e716dd992",
   "metadata": {},
   "outputs": [
    {
     "name": "stdout",
     "output_type": "stream",
     "text": [
      "3\n",
      "[[1 3]\n",
      " [3 4]\n",
      " [5 6]\n",
      " ...\n",
      " [0 0]\n",
      " [0 0]\n",
      " [0 0]]\n"
     ]
    }
   ],
   "source": [
    "x=np.array([[1,3],[3,4],[5,6]])\n",
    "length=x.shape[0]\n",
    "numb=1000000-length\n",
    "print(length)\n",
    "x=np.pad(x,((0,numb),(0,0)),'constant')\n",
    "print(x)"
   ]
  },
  {
   "cell_type": "code",
   "execution_count": 19,
   "id": "fc835f8f",
   "metadata": {},
   "outputs": [
    {
     "name": "stdout",
     "output_type": "stream",
     "text": [
      "         chrom  read_start   read_end                   name  score strand\n",
      "1358804   chr3   185428542  185428641  SRR17006224.2970002/1     42      +\n",
      "1358807   chr3   185428676  185428777  SRR17006224.2970002/2     42      -\n",
      "467561   chr13    26964842   26964943  SRR17006224.2970003/1     42      -\n",
      "467559   chr13    26964743   26964844  SRR17006224.2970003/2     42      +\n",
      "1498113   chr5   132446840  132446940  SRR17006224.2970004/1     42      -\n"
     ]
    }
   ],
   "source": [
    "\n",
    "\n",
    "\n",
    "f = '/home/sam/sra_files/control_SRR17006224.bed.gz'\n",
    "with gzip.open(f, 'rb') as file:\n",
    "        file_content = file.read().decode('utf-8')  # Decode the bytes to string\n",
    "    \n",
    "        # Process the file content and convert it into a DataFrame\n",
    "        # Assuming the file content is in a specific format, modify the code accordingly\n",
    "        # For example, if the content is a CSV file, you can use pd.read_csv()\n",
    "        # If it's in JSON format, you can use pd.read_json(), etc.\n",
    "df = pd.read_csv(io.BytesIO(file_content.encode()), delimiter='\\t')  # Use BytesIO to read from bytes\n",
    "header = ['chrom', 'read_start', 'read_end', 'name', 'score', 'strand']\n",
    "df.columns = header[:len(df.columns)]\n",
    "df=df.sort_values('name')\n",
    "print(df.head())\n"
   ]
  },
  {
   "cell_type": "code",
   "execution_count": 20,
   "id": "3f70f1bd",
   "metadata": {},
   "outputs": [
    {
     "name": "stdout",
     "output_type": "stream",
     "text": [
      "         chrom  read_start   read_end                   name  score strand\n",
      "1358804   chr3   185428542  185428641  SRR17006224.2970002/1     42      +\n",
      "1358807   chr3   185428676  185428777  SRR17006224.2970002/1     42      -\n",
      "467561   chr13    26964842   26964943  SRR17006224.2970003/1     42      -\n",
      "467559   chr13    26964743   26964844  SRR17006224.2970003/1     42      +\n",
      "1498113   chr5   132446840  132446940  SRR17006224.2970004/1     42      -\n"
     ]
    }
   ],
   "source": [
    "df['name'] = df['name'].str.rstrip('12') + '1'\n",
    "print(df.head())\n"
   ]
  },
  {
   "cell_type": "code",
   "execution_count": 21,
   "id": "7d4300a0",
   "metadata": {},
   "outputs": [
    {
     "name": "stdout",
     "output_type": "stream",
     "text": [
      "         chrom  read_start   read_end                   name  score strand  \\\n",
      "1358804   chr3   185428542  185428641  SRR17006224.2970002/1     42      +   \n",
      "1358807   chr3   185428676  185428777  SRR17006224.2970002/1     42      -   \n",
      "467561   chr13    26964842   26964943  SRR17006224.2970003/1     42      -   \n",
      "467559   chr13    26964743   26964844  SRR17006224.2970003/1     42      +   \n",
      "1498113   chr5   132446840  132446940  SRR17006224.2970004/1     42      -   \n",
      "\n",
      "         frag_length  \n",
      "1358804          235  \n",
      "1358807          235  \n",
      "467561           200  \n",
      "467559           200  \n",
      "1498113          156  \n"
     ]
    }
   ],
   "source": [
    "df['frag_length']=df.groupby('name')['read_end'].transform('max') - df.groupby('name')['read_start'].transform('min')\n",
    "print(df.head())\n"
   ]
  },
  {
   "cell_type": "code",
   "execution_count": 22,
   "id": "8a44e95d",
   "metadata": {},
   "outputs": [
    {
     "name": "stdout",
     "output_type": "stream",
     "text": [
      "        chrom  read_start  read_end                   name  score strand  \\\n",
      "39145   chr16          17       148  SRR17006224.3009253/1      1      -   \n",
      "290237  chr16          21       178  SRR17006224.3261081/1      1      +   \n",
      "642954  chr11          31       208  SRR17006224.3614945/1      1      +   \n",
      "975280  chr17          33       194  SRR17006224.3948315/1      0      -   \n",
      "45507    chr2          34       183  SRR17006224.3015624/1      1      -   \n",
      "\n",
      "        frag_length  \n",
      "39145           131  \n",
      "290237          157  \n",
      "642954          177  \n",
      "975280          161  \n",
      "45507           149  \n"
     ]
    }
   ],
   "source": [
    "df_unique = df.groupby('name',as_index=False).agg({\n",
    "    'chrom': 'first',\n",
    "    'read_start': 'min',\n",
    "    'read_end': 'max',\n",
    "    'name':'first',\n",
    "    'score': 'first',\n",
    "    'strand': 'first',\n",
    "    'frag_length':'first'\n",
    "})\n",
    "\n",
    "#df_unique = df.drop_duplicates(subset='Nname', keep='first')\n",
    "df_unique=df_unique.sort_values('read_start')\n",
    "df_unique[\"chrom\"] = df_unique[\"chrom\"].str.split(\"_\").str.get(0)\n",
    "mask = df_unique[\"chrom\"].str.startswith(\"chrUn\")\n",
    "\n",
    "# Filter the DataFrame to exclude rows with \"chrUn\" chromosomes\n",
    "df_unique= df_unique[~mask]\n",
    "\n",
    "print(df_unique.head())"
   ]
  },
  {
   "cell_type": "code",
   "execution_count": 23,
   "id": "7626aaa7",
   "metadata": {},
   "outputs": [
    {
     "name": "stdout",
     "output_type": "stream",
     "text": [
      "       chrom  read_start   read_end                   name  score strand  \\\n",
      "435782  chr1   248945345  248945482  SRR17006224.3407085/1      1      -   \n",
      "645744  chr1    52367282   52367465  SRR17006224.3617740/1     42      +   \n",
      "647696  chr1    52367282   52367465  SRR17006224.3619698/1     42      +   \n",
      "320514  chr1    25860111   25860595  SRR17006224.3291447/1     42      +   \n",
      "717042  chr1    52367297   52367459  SRR17006224.3689239/1     40      +   \n",
      "\n",
      "        frag_length  \n",
      "435782          137  \n",
      "645744          183  \n",
      "647696          183  \n",
      "320514          484  \n",
      "717042          162  \n"
     ]
    }
   ],
   "source": [
    "df_unique = df_unique[df_unique.frag_length <= 1000]\n",
    "df_unique['frag_length'].max()\n",
    "df_unique=df_unique.sort_values('chrom')\n",
    "print(df_unique.head())"
   ]
  },
  {
   "cell_type": "code",
   "execution_count": 24,
   "id": "36c6e9d2-4cd4-4d1d-b507-ef53554ca4ac",
   "metadata": {},
   "outputs": [
    {
     "name": "stdout",
     "output_type": "stream",
     "text": [
      "{'chr1': 0, 'chr2': 248956422, 'chr3': 491149951, 'chr4': 689445510, 'chr5': 879660065, 'chr6': 1061198324, 'chr7': 1232004303, 'chr8': 1391350276, 'chr9': 1536488912, 'chr10': 1674883629, 'chr11': 1808681051, 'chr12': 1943767673, 'chr13': 2077042982, 'chr14': 2191407310, 'chr15': 2298451028, 'chr16': 2400442217, 'chr17': 2490780562, 'chr18': 2574038003, 'chr19': 2654411288, 'chr20': 2713028904, 'chr21': 2777473071, 'chr22': 2824183054, 'chrX': 2875001522, 'chrY': 3031042417}\n",
      "       chrom  read_start   read_end                   name  score strand  \\\n",
      "435782  chr1   248945345  248945482  SRR17006224.3407085/1      1      -   \n",
      "645744  chr1    52367282   52367465  SRR17006224.3617740/1     42      +   \n",
      "647696  chr1    52367282   52367465  SRR17006224.3619698/1     42      +   \n",
      "320514  chr1    25860111   25860595  SRR17006224.3291447/1     42      +   \n",
      "717042  chr1    52367297   52367459  SRR17006224.3689239/1     40      +   \n",
      "\n",
      "        frag_length  \n",
      "435782          137  \n",
      "645744          183  \n",
      "647696          183  \n",
      "320514          484  \n",
      "717042          162  \n"
     ]
    }
   ],
   "source": [
    "#create a list or dictionary with the values of the positions\n",
    "chrom_pos={'chr1': 0,\n",
    "'chr2': 248956422,\n",
    "'chr3': 491149951,\n",
    "'chr4': 689445510,\n",
    "'chr5': 879660065,\n",
    "'chr6': 1061198324,\n",
    "'chr7': 1232004303,\n",
    "'chr8': 1391350276,\n",
    "'chr9': 1536488912,\n",
    "'chr10': 1674883629,\n",
    "'chr11': 1808681051,\n",
    "'chr12': 1943767673,\n",
    "'chr13': 2077042982,\n",
    "'chr14': 2191407310,\n",
    "'chr15': 2298451028,\n",
    "'chr16': 2400442217,\n",
    "'chr17': 2490780562,\n",
    "'chr18': 2574038003,\n",
    "'chr19': 2654411288,\n",
    "'chr20': 2713028904,\n",
    "'chr21': 2777473071,\n",
    "'chr22': 2824183054,\n",
    "'chrX': 2875001522,\n",
    "'chrY': 3031042417}\n",
    "print(chrom_pos)\n",
    "\n",
    "for key, value in chrom_pos.items():\n",
    "\n",
    "    mask = df_unique['chrom'] == key\n",
    "    \n",
    "    df_unique.loc[mask, 'read_start'] += value\n",
    "    df_unique.loc[mask,'read_end']+=value\n",
    "print(df_unique.head())"
   ]
  },
  {
   "cell_type": "code",
   "execution_count": 25,
   "id": "b9c63e80",
   "metadata": {},
   "outputs": [
    {
     "name": "stdout",
     "output_type": "stream",
     "text": [
      "       chrom  read_start   read_end                   name  score strand  \\\n",
      "8550    chr3   623427175  623427619  SRR17006224.2978576/1     23      -   \n",
      "496431  chr3   607187011  607187180  SRR17006224.3467947/1     42      -   \n",
      "655054  chr3   607186177  607186361  SRR17006224.3627083/1     42      +   \n",
      "316043  chr3   504175124  504175294  SRR17006224.3286967/1     42      +   \n",
      "366291  chr3   604694653  604695123  SRR17006224.3337358/1     42      -   \n",
      "...      ...         ...        ...                    ...    ...    ...   \n",
      "841197  chr3   531364212  531364385  SRR17006224.3813798/1     42      +   \n",
      "522048  chr3   689247064  689247202  SRR17006224.3493657/1      1      +   \n",
      "691729  chr3   548895205  548895374  SRR17006224.3663855/1     42      -   \n",
      "645150  chr3   525255682  525256013  SRR17006224.3617144/1     42      -   \n",
      "953289  chr3   512345748  512345954  SRR17006224.3926259/1     42      -   \n",
      "\n",
      "        frag_length  \n",
      "8550            444  \n",
      "496431          169  \n",
      "655054          184  \n",
      "316043          170  \n",
      "366291          470  \n",
      "...             ...  \n",
      "841197          173  \n",
      "522048          138  \n",
      "691729          169  \n",
      "645150          331  \n",
      "953289          206  \n",
      "\n",
      "[56618 rows x 7 columns]\n"
     ]
    },
    {
     "data": {
      "image/png": "[encoded data removed]",
      "text/plain": [
       "<Figure size 640x480 with 1 Axes>"
      ]
     },
     "metadata": {},
     "output_type": "display_data"
    }
   ],
   "source": [
    "print(df_unique[df_unique['chrom']=='chr3'])\n",
    "df_unique['frag_length'].hist(bins=65,color='#BDE0BD', edgecolor='black', grid=False)\n",
    "\n",
    "# Set labels and title\n",
    "plt.xlabel('Fragment Length')\n",
    "plt.ylabel('Frequency')\n",
    "plt.title('Histogram of Fragment Length Per Patient')\n",
    "\n",
    "# Show the plot\n",
    "plt.show()\n",
    "\n",
    "\n",
    "\n",
    "\n",
    "\n",
    "\n"
   ]
  },
  {
   "cell_type": "code",
   "execution_count": 26,
   "id": "9e3128af-4c02-4b37-afe8-29f4d88ca852",
   "metadata": {},
   "outputs": [
    {
     "name": "stdout",
     "output_type": "stream",
     "text": [
      "       chrom  read_start  read_end                   name  score strand  \\\n",
      "967764  chr1          35       196  SRR17006224.3940770/1      1      -   \n",
      "610272  chr1         878      1181  SRR17006224.3582158/1      1      -   \n",
      "228858  chr1        1028      1243  SRR17006224.3199512/1      1      +   \n",
      "501838  chr1        1100      1371  SRR17006224.3473375/1      1      +   \n",
      "68137   chr1        1780      1929  SRR17006224.3038334/1      1      +   \n",
      "\n",
      "        frag_length  \n",
      "967764          161  \n",
      "610272          303  \n",
      "228858          215  \n",
      "501838          271  \n",
      "68137           149  \n"
     ]
    }
   ],
   "source": [
    "chromed=df_unique['chrom'].unique()\n",
    "max_index=3088269832\n",
    "max_index_adj=3088358329\n",
    "zero_reads = np.zeros( max_index_adj,dtype='uint8')\n",
    "read_tonump1 = df_unique['read_start'].tolist()\n",
    "read_tonump2=df_unique['read_end'].tolist()\n",
    "zero_reads[read_tonump1]=1\n",
    "zero_reads[read_tonump2]=1\n",
    "df=df_unique\n",
    "df=df.sort_values('read_start')\n",
    "print(df.head())\n"
   ]
  },
  {
   "cell_type": "code",
   "execution_count": 27,
   "id": "083b84c8-2727-40a5-af6d-2247a83b7a79",
   "metadata": {},
   "outputs": [
    {
     "name": "stdout",
     "output_type": "stream",
     "text": [
      "[[1252.  553.]\n",
      " [ 492.  222.]\n",
      " [ 216.   94.]\n",
      " ...\n",
      " [  36.   15.]\n",
      " [  14.    6.]\n",
      " [  68.   27.]]\n",
      "10.0\n",
      "[[[7.13249755]\n",
      "  [6.19847872]\n",
      "  [5.37527841]\n",
      "  ...\n",
      "  [3.58351894]\n",
      "  [2.63905733]\n",
      "  [4.21950771]]]\n",
      "(1, 20000, 1)\n",
      "       Bin Indices  new_counts  Counts  true_counts  Small counts  \\\n",
      "0                0    7.132498    1252        553.0         116.0   \n",
      "1                1    6.198479     492        222.0          52.0   \n",
      "2                2    5.375278     216         94.0          22.0   \n",
      "3                3    4.927254     138         64.0          18.0   \n",
      "4                4    4.406719      82         39.0           4.0   \n",
      "...            ...         ...     ...          ...           ...   \n",
      "19995        19995    0.000000       0          0.0           0.0   \n",
      "19996        19996    0.000000       0          0.0           0.0   \n",
      "19997        19997    3.583519      36         15.0           4.0   \n",
      "19998        19998    2.639057      14          6.0           0.0   \n",
      "19999        19999    4.219508      68         27.0           4.0   \n",
      "\n",
      "       Large Counts  Ratio  \n",
      "0             510.0   11.0  \n",
      "1             194.0   11.0  \n",
      "2              86.0   11.0  \n",
      "3              51.0   13.0  \n",
      "4              37.0   11.0  \n",
      "...             ...    ...  \n",
      "19995           0.0    0.0  \n",
      "19996           0.0    0.0  \n",
      "19997          14.0   11.0  \n",
      "19998           7.0    9.0  \n",
      "19999          30.0    9.0  \n",
      "\n",
      "[20000 rows x 7 columns]\n"
     ]
    },
    {
     "name": "stderr",
     "output_type": "stream",
     "text": [
      "/tmp/ipykernel_1009/1796732626.py:40: RuntimeWarning: divide by zero encountered in divide\n",
      "  ratio = np.where(small_counts == 0, 0, np.where(large_counts == 0, 1, small_counts / large_counts))\n",
      "/tmp/ipykernel_1009/1796732626.py:40: RuntimeWarning: invalid value encountered in divide\n",
      "  ratio = np.where(small_counts == 0, 0, np.where(large_counts == 0, 1, small_counts / large_counts))\n",
      "/tmp/ipykernel_1009/1796732626.py:42: RuntimeWarning: divide by zero encountered in log\n",
      "  new_counts=np.log(hist)\n"
     ]
    }
   ],
   "source": [
    "import pandas as pd\n",
    "import numpy as np\n",
    "\n",
    "# Instead of assigning to a new variable, modify the original dataframe\n",
    "df = df_unique\n",
    "\n",
    "# Specify the number of bins\n",
    "num_bins = 20000\n",
    "\n",
    "# Calculate the bin edges\n",
    "bin_edges = np.linspace(0, 3088269832, num_bins + 1)\n",
    "\n",
    "# Calculate the histogram\n",
    "hist, bins = np.histogram(\n",
    "    np.concatenate([df['read_start'].values, df['read_end'].values]),\n",
    "    bins=bin_edges\n",
    ")\n",
    "\n",
    "# Calculate the bin indices for the 'read_start' column\n",
    "bin_indices = np.searchsorted(bin_edges, df['read_start'], side='right') - 1\n",
    "\n",
    "# Calculate the counts of fragment lengths above and below 160 for each bin\n",
    "\n",
    "condition1 = (df['frag_length'] <= 220) & (df['frag_length'] >= 100)\n",
    "condition2 = (df['frag_length'] <= 400) & (df['frag_length'] >= 300)\n",
    "condition3 = (df['frag_length'] <= 590) & (df['frag_length'] >= 470)\n",
    "\n",
    "# Combine the conditions using logical OR (|)\n",
    "combined_condition = condition1 | condition2 | condition3\n",
    "\n",
    "# Calculate small_counts using the combined condition\n",
    "small_counts = np.bincount(bin_indices, weights=combined_condition, minlength=num_bins)\n",
    "medium_counts=np.bincount(bin_indices, weights=(df['frag_length'] <= 160), minlength=num_bins)\n",
    "# Calculate large_counts using the condition for large fragments\n",
    "large_counts = np.bincount(bin_indices, weights=(df['frag_length'] > 160), minlength=num_bins)\n",
    "\n",
    "result_array = np.column_stack((hist, small_counts))\n",
    "print(result_array)\n",
    "# Calculate the ratio for each bin\n",
    "ratio = np.where(small_counts == 0, 0, np.where(large_counts == 0, 1, small_counts / large_counts))\n",
    "print(max(ratio))\n",
    "new_counts=np.log(hist)\n",
    "new_counts[new_counts==-np.inf]=0\n",
    "# Create a DataFrame with bin indices, counts, and ratio\n",
    "df_result = pd.DataFrame({\n",
    "    'Bin Indices': np.arange(num_bins),\n",
    "    'new_counts':new_counts,\n",
    "    'Counts': hist,\n",
    "    'true_counts': small_counts,\n",
    "    'Small counts':medium_counts,\n",
    "    'Large Counts': large_counts,\n",
    "    'Ratio': np.round(ratio*10)\n",
    "})\n",
    "\n",
    "# Calculate the sum of small and large counts\n",
    "total_counts = small_counts + large_counts\n",
    "\n",
    "# Update the 'Counts' column in the DataFrame\n",
    "\n",
    "arr=np.expand_dims(new_counts,axis=1)\n",
    "arr=np.expand_dims(arr,axis=0)\n",
    "print(arr)\n",
    "print(arr.shape)\n",
    "\n",
    "# Print the resulting DataFrame\n",
    "print(df_result)"
   ]
  },
  {
   "cell_type": "code",
   "execution_count": 28,
   "id": "b36e16a4-94fb-44c3-b4bb-0392d4957192",
   "metadata": {},
   "outputs": [
    {
     "name": "stdout",
     "output_type": "stream",
     "text": [
      "(100000000,)\n"
     ]
    },
    {
     "name": "stderr",
     "output_type": "stream",
     "text": [
      "/tmp/ipykernel_1009/4150930369.py:4: RuntimeWarning: divide by zero encountered in log\n",
      "  hist=np.log(hist)\n"
     ]
    },
    {
     "data": {
      "image/png": "[encoded data removed]",
      "text/plain": [
       "<Figure size 640x480 with 1 Axes>"
      ]
     },
     "metadata": {},
     "output_type": "display_data"
    }
   ],
   "source": [
    "\n",
    "\n",
    "# Create a 1D histogram with 55,000 bins using the values from both columns\n",
    "hist, bins = np.histogram(np.concatenate([df_unique['read_start'].values, df_unique['read_end'].values]), bins= 100000000)\n",
    "print(hist.shape)\n",
    "hist=np.log(hist)\n",
    "# Plot the histogram as a 1D heatmap\n",
    "# Plot the histogram as a 1D heatmap using a logarithmic scale\n",
    "plt.plot(bins[:-1], hist, color='#BDE0BD')\n",
    "\n",
    "\n",
    "\n",
    "# Set labels and save the plot\n",
    "plt.xlabel('Human Genome (bp)')\n",
    "plt.ylabel('Frequency (Log)')\n",
    "plt.show()\n",
    "\n",
    "\n"
   ]
  },
  {
   "cell_type": "code",
   "execution_count": null,
   "id": "df5c911e-2b43-4de6-ae26-a0a161f94cd5",
   "metadata": {},
   "outputs": [],
   "source": []
  }
 ],
 "metadata": {
  "kernelspec": {
   "display_name": "Python 3 (ipykernel)",
   "language": "python",
   "name": "python3"
  },
  "language_info": {
   "codemirror_mode": {
    "name": "ipython",
    "version": 3
   },
   "file_extension": ".py",
   "mimetype": "text/x-python",
   "name": "python",
   "nbconvert_exporter": "python",
   "pygments_lexer": "ipython3",
   "version": "3.9.16"
  }
 },
 "nbformat": 4,
 "nbformat_minor": 5
}
